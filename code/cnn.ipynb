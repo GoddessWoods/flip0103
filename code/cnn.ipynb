{
 "cells": [
  {
   "cell_type": "code",
   "execution_count": 2,
   "metadata": {},
   "outputs": [
    {
     "name": "stdout",
     "output_type": "stream",
     "text": [
      "1.3.0.post2 cpu\n"
     ]
    }
   ],
   "source": [
    "import os\n",
    "import torch\n",
    "from torch import nn\n",
    "import torchtext.vocab as Vocab\n",
    "import torch.utils.data as Data\n",
    "import  torch.nn.functional as F\n",
    "import collections\n",
    "import os\n",
    "import random\n",
    "import tarfile\n",
    "import torch\n",
    "from torch import nn\n",
    "import torchtext.vocab as Vocab\n",
    "import torch.utils.data as Data\n",
    "import csv\n",
    "import sys\n",
    "import math\n",
    "import time\n",
    "import json\n",
    "import zipfile\n",
    "from tqdm import tqdm\n",
    "from PIL import Image\n",
    "from collections import namedtuple\n",
    "from IPython import display\n",
    "from matplotlib import pyplot as plt\n",
    "import torch.nn.functional as F\n",
    "import torchvision\n",
    "import torchvision.transforms as transforms\n",
    "import torchtext\n",
    "import numpy as np\n",
    "from itertools import chain\n",
    "import torch.optim as optim\n",
    "from torch.autograd import Variable\n",
    "import torch\n",
    "import torch.nn as nn\n",
    "import torch.nn.functional as F\n",
    "import torch.utils.data.dataloader as dataloader\n",
    "import torch.optim as optim\n",
    "import torch.autograd as autograd\n",
    "import torchtext.vocab as torchvocab\n",
    "from torch.autograd import Variable\n",
    "import tqdm\n",
    "import os\n",
    "import time\n",
    "import re\n",
    "import pandas as pd\n",
    "import string\n",
    "import gensim\n",
    "import time\n",
    "import random\n",
    "import snowballstemmer\n",
    "import collections\n",
    "from collections import Counter\n",
    "from nltk.corpus import stopwords\n",
    "from itertools import chain\n",
    "from sklearn.metrics import accuracy_score\n",
    "\n",
    "\n",
    "import sys\n",
    "sys.path.append(\"..\") \n",
    "import d2lzh_pytorch as d2l\n",
    "\n",
    "os.environ[\"CUDA_VISIBLE_DEVICES\"] = \"0\"\n",
    "device = torch.device('cuda' if torch.cuda.is_available() else 'cpu')\n",
    "\n",
    "DATA_ROOT = \"/Users/shuxialin/Documents/project/code\"\n",
    "print(torch.__version__, device)"
   ]
  },
  {
   "cell_type": "code",
   "execution_count": 3,
   "metadata": {},
   "outputs": [],
   "source": [
    "fname = os.path.join(DATA_ROOT, \"aclImdb_v1.tar.gz\")\n",
    "if not os.path.exists(os.path.join(DATA_ROOT, \"aclImdb\")):\n",
    "    print(\"从压缩包解压...\")\n",
    "    with tarfile.open(fname, 'r') as f:\n",
    "        f.extractall(DATA_ROOT)"
   ]
  },
  {
   "cell_type": "code",
   "execution_count": 4,
   "metadata": {},
   "outputs": [],
   "source": [
    "class GlobalMaxPool1d(nn.Module):\n",
    "    def __init__(self):\n",
    "        super(GlobalMaxPool1d, self).__init__()\n",
    "    def forward(self, x):\n",
    "         # x shape: (batch_size, channel, seq_len)\n",
    "        return F.max_pool1d(x, kernel_size=x.shape[2]) # shape: (batch_size, channel, 1)"
   ]
  },
  {
   "cell_type": "code",
   "execution_count": 5,
   "metadata": {},
   "outputs": [],
   "source": [
    "sentences = []\n",
    "lines = []\n",
    "with open(\"/Users/shuxialin/Documents/flip/01and03/data/se07_test.xml\", 'r') as fileobj :\n",
    "    for line in fileobj :\n",
    "        lines.append(line)\n",
    "        \n",
    "lines = lines[1:]\n",
    "\n",
    "for line in lines :\n",
    "    tokens = (line.split('<')[1]).split('>')\n",
    "    sentences.append(tokens[-1])\n",
    "\n",
    "sen_se07 = sentences[:1000]\n",
    "\n",
    "se07_classes = []\n",
    "\n",
    "with open('/Users/shuxialin/Documents/flip/01and03/data/se07_test.emotions.gold', 'r') as flie :\n",
    "    for line in flie:\n",
    "        token = (line.split())[1:]\n",
    "        a = token.index(max(token))\n",
    "        se07_classes.append(a)\n",
    "        \n",
    "train_data = []\n",
    "test_data = [] \n",
    "\n",
    "for i in range(800):\n",
    "    train_data.append([sen_se07[i],se07_classes[i]])\n",
    "for i in range(200):\n",
    "    test_data.append([sen_se07[i+800],se07_classes[i+800]])"
   ]
  },
  {
   "cell_type": "code",
   "execution_count": 6,
   "metadata": {},
   "outputs": [],
   "source": [
    "def preprocess_imdb(data, vocab):\n",
    "    max_l = 100  # 将每条评论通过截断或者补0，使得长度变成500\n",
    "\n",
    "    def pad(x):\n",
    "        return x[:max_l] if len(x) > max_l else x + [0] * (max_l - len(x))\n",
    "\n",
    "    tokenized_data = get_tokenized_imdb(data)\n",
    "    features = torch.tensor([pad([vocab.stoi[word] for word in words]) for words in tokenized_data])\n",
    "    labels = torch.tensor([score for _, score in data])\n",
    "    return features, labels"
   ]
  },
  {
   "cell_type": "code",
   "execution_count": 7,
   "metadata": {},
   "outputs": [],
   "source": [
    "def get_tokenized_imdb(data):\n",
    "    \"\"\"\n",
    "    data: list of [string, label]\n",
    "    \"\"\"\n",
    "    def tokenizer(text):\n",
    "        return [tok.lower() for tok in text.split(' ')]\n",
    "    return [tokenizer(review) for review, _   in data]"
   ]
  },
  {
   "cell_type": "code",
   "execution_count": 8,
   "metadata": {},
   "outputs": [],
   "source": [
    "def get_tokenized_imdb(data):\n",
    "    \"\"\"\n",
    "    data: list of [string, label]\n",
    "    \"\"\"\n",
    "    def tokenizer(text):\n",
    "        return [tok.lower() for tok in text.split(' ')]\n",
    "    return [tokenizer(review) for review, _   in data]"
   ]
  },
  {
   "cell_type": "code",
   "execution_count": 9,
   "metadata": {},
   "outputs": [],
   "source": [
    "def tokenizer(text):\n",
    "    return [tok.lower() for tok in text.split(' ')]\n",
    "\n",
    "train_tokenized = []\n",
    "test_tokenized = []\n",
    "for review, score in train_data:\n",
    "    train_tokenized.append(tokenizer(review))\n",
    "for review, score in test_data:\n",
    "    test_tokenized.append(tokenizer(review))\n",
    "\n",
    "vocab = set(chain(*train_tokenized))\n",
    "vocab_size = len(vocab)"
   ]
  },
  {
   "cell_type": "code",
   "execution_count": 10,
   "metadata": {},
   "outputs": [
    {
     "data": {
      "text/plain": [
       "('# words in vocab:', 812)"
      ]
     },
     "execution_count": 10,
     "metadata": {},
     "output_type": "execute_result"
    }
   ],
   "source": [
    "def get_vocab_imdb(data):\n",
    "    tokenized_data = get_tokenized_imdb(data)\n",
    "    counter = collections.Counter([tk for st in tokenized_data for tk in st])\n",
    "    return Vocab.Vocab(counter, min_freq=2)\n",
    "\n",
    "vocab = get_vocab_imdb(train_data)\n",
    "'# words in vocab:', len(vocab)"
   ]
  },
  {
   "cell_type": "code",
   "execution_count": 11,
   "metadata": {},
   "outputs": [],
   "source": [
    "batch_size = 64\n",
    "preprocess_imdb(train_data, vocab)\n",
    "train_set = Data.TensorDataset(*preprocess_imdb(train_data, vocab))\n",
    "test_set = Data.TensorDataset(*preprocess_imdb(test_data, vocab))\n",
    "train_iter = Data.DataLoader(train_set, batch_size, shuffle=True)\n",
    "test_iter = Data.DataLoader(test_set, batch_size)"
   ]
  },
  {
   "cell_type": "code",
   "execution_count": 12,
   "metadata": {},
   "outputs": [],
   "source": [
    "class TextCNN(nn.Module):\n",
    "    def __init__(self, vocab, embed_size, kernel_sizes, num_channels):\n",
    "        super(TextCNN, self).__init__()\n",
    "        self.embedding = nn.Embedding(len(vocab), embed_size)\n",
    "        # 不参与训练的嵌入层\n",
    "        self.constant_embedding = nn.Embedding(len(vocab), embed_size)\n",
    "        self.dropout = nn.Dropout(0.5)\n",
    "        self.decoder = nn.Linear(sum(num_channels), 6)\n",
    "        # 时序最大池化层没有权重，所以可以共用一个实例\n",
    "        self.pool = GlobalMaxPool1d()\n",
    "        self.convs = nn.ModuleList()  # 创建多个一维卷积层\n",
    "        for c, k in zip(num_channels, kernel_sizes):\n",
    "            self.convs.append(nn.Conv1d(in_channels = 2*embed_size, \n",
    "                                        out_channels = c, \n",
    "                                        kernel_size = k))\n",
    "\n",
    "    def forward(self, inputs):\n",
    "        # 将两个形状是(批量大小, 词数, 词向量维度)的嵌入层的输出按词向量连结\n",
    "        embeddings = torch.cat((\n",
    "            self.embedding(inputs), \n",
    "            self.constant_embedding(inputs)), dim=2) # (batch, seq_len, 2*embed_size)\n",
    "        # 根据Conv1D要求的输入格式，将词向量维，即一维卷积层的通道维(即词向量那一维)，变换到前一维\n",
    "        embeddings = embeddings.permute(0, 2, 1)\n",
    "        # 对于每个一维卷积层，在时序最大池化后会得到一个形状为(批量大小, 通道大小, 1)的\n",
    "        # Tensor。使用flatten函数去掉最后一维，然后在通道维上连结\n",
    "        encoding = torch.cat([self.pool(F.relu(conv(embeddings))).squeeze(-1) for conv in self.convs], dim=1)\n",
    "        # 应用丢弃法后使用全连接层得到输出\n",
    "        outputs = self.decoder(self.dropout(encoding))\n",
    "        return outputs"
   ]
  },
  {
   "cell_type": "code",
   "execution_count": 13,
   "metadata": {},
   "outputs": [],
   "source": [
    "num_epochs = 80\n",
    "embed_size = 300\n",
    "num_hiddens = 100\n",
    "num_layers = 2\n",
    "bidirectional = True\n",
    "batch_size = 64\n",
    "labels = 6\n",
    "lr = 0.001\n",
    "embed_size, kernel_sizes, nums_channels = 300, [3, 4, 5], [100, 100, 100]\n",
    "net = TextCNN(vocab, embed_size, kernel_sizes, nums_channels)\n",
    "loss_function = nn.CrossEntropyLoss()\n",
    "optimizer = optim.SGD(net.parameters(), lr=lr)"
   ]
  },
  {
   "cell_type": "code",
   "execution_count": 14,
   "metadata": {},
   "outputs": [],
   "source": [
    "glove_vocab = Vocab.GloVe(name='6B', dim=300, cache=os.path.join(DATA_ROOT, \"glove\"))"
   ]
  },
  {
   "cell_type": "code",
   "execution_count": 15,
   "metadata": {},
   "outputs": [],
   "source": [
    "\n",
    "def load_pretrained_embedding(words, pretrained_vocab):\n",
    "    \"\"\"从预训练好的vocab中提取出words对应的词向量\"\"\"\n",
    "    embed = torch.zeros(len(words), pretrained_vocab.vectors[0].shape[0]) # 初始化为0\n",
    "    oov_count = 0 # out of vocabulary\n",
    "    for i, word in enumerate(words):\n",
    "        try:\n",
    "            idx = pretrained_vocab.stoi[word]\n",
    "            embed[i, :] = pretrained_vocab.vectors[idx]\n",
    "        except KeyError:\n",
    "            oov_count += 0\n",
    "    if oov_count > 0:\n",
    "        print(\"There are %d oov words.\")\n",
    "    return embed\n",
    "\n",
    "net.embedding.weight.data.copy_(\n",
    "    load_pretrained_embedding(vocab.itos, glove_vocab))\n",
    "net.embedding.weight.requires_grad = False # 直接加载预训练好的, 所以不需要更新它\n"
   ]
  },
  {
   "cell_type": "code",
   "execution_count": 16,
   "metadata": {},
   "outputs": [
    {
     "name": "stdout",
     "output_type": "stream",
     "text": [
      "epoch: 0, train loss: 1.8482, train acc: 0.15, test loss: 1.7911, test acc: 0.16, time: 6.05\n",
      "epoch: 1, train loss: 1.8079, train acc: 0.19, test loss: 1.8082, test acc: 0.19, time: 5.89\n",
      "epoch: 2, train loss: 1.7688, train acc: 0.23, test loss: 1.7455, test acc: 0.25, time: 5.57\n",
      "epoch: 3, train loss: 1.7802, train acc: 0.23, test loss: 1.7999, test acc: 0.23, time: 5.58\n",
      "epoch: 4, train loss: 1.7731, train acc: 0.23, test loss: 1.8192, test acc: 0.26, time: 5.42\n",
      "epoch: 5, train loss: 1.7456, train acc: 0.24, test loss: 1.8250, test acc: 0.18, time: 5.45\n",
      "epoch: 6, train loss: 1.7694, train acc: 0.23, test loss: 1.8250, test acc: 0.17, time: 5.46\n",
      "epoch: 7, train loss: 1.7537, train acc: 0.23, test loss: 1.8420, test acc: 0.22, time: 5.50\n",
      "epoch: 8, train loss: 1.7406, train acc: 0.25, test loss: 1.8012, test acc: 0.21, time: 5.51\n",
      "epoch: 9, train loss: 1.7488, train acc: 0.27, test loss: 1.7738, test acc: 0.18, time: 5.51\n",
      "epoch: 10, train loss: 1.7594, train acc: 0.26, test loss: 1.8152, test acc: 0.23, time: 5.50\n",
      "epoch: 11, train loss: 1.7237, train acc: 0.28, test loss: 1.7888, test acc: 0.26, time: 5.52\n",
      "epoch: 12, train loss: 1.7148, train acc: 0.26, test loss: 1.8469, test acc: 0.16, time: 5.48\n",
      "epoch: 13, train loss: 1.7211, train acc: 0.26, test loss: 1.8327, test acc: 0.20, time: 5.49\n",
      "epoch: 14, train loss: 1.7435, train acc: 0.24, test loss: 1.8185, test acc: 0.22, time: 5.45\n",
      "epoch: 15, train loss: 1.7152, train acc: 0.29, test loss: 1.8481, test acc: 0.14, time: 5.52\n",
      "epoch: 16, train loss: 1.6904, train acc: 0.27, test loss: 1.8174, test acc: 0.21, time: 5.49\n",
      "epoch: 17, train loss: 1.7045, train acc: 0.30, test loss: 1.8263, test acc: 0.20, time: 5.45\n",
      "epoch: 18, train loss: 1.7110, train acc: 0.25, test loss: 1.8185, test acc: 0.17, time: 5.43\n",
      "epoch: 19, train loss: 1.7047, train acc: 0.29, test loss: 1.7819, test acc: 0.21, time: 5.45\n",
      "epoch: 20, train loss: 1.6898, train acc: 0.30, test loss: 1.7660, test acc: 0.29, time: 5.54\n",
      "epoch: 21, train loss: 1.6908, train acc: 0.29, test loss: 1.7871, test acc: 0.20, time: 5.52\n",
      "epoch: 22, train loss: 1.6785, train acc: 0.30, test loss: 1.7569, test acc: 0.27, time: 5.53\n",
      "epoch: 23, train loss: 1.6885, train acc: 0.29, test loss: 1.7975, test acc: 0.25, time: 5.46\n",
      "epoch: 24, train loss: 1.6779, train acc: 0.29, test loss: 1.8157, test acc: 0.16, time: 5.46\n",
      "epoch: 25, train loss: 1.6735, train acc: 0.29, test loss: 1.8373, test acc: 0.18, time: 5.37\n",
      "epoch: 26, train loss: 1.6815, train acc: 0.29, test loss: 1.8138, test acc: 0.23, time: 5.58\n",
      "epoch: 27, train loss: 1.6734, train acc: 0.30, test loss: 1.7996, test acc: 0.21, time: 5.47\n",
      "epoch: 28, train loss: 1.6430, train acc: 0.32, test loss: 1.8172, test acc: 0.15, time: 5.53\n",
      "epoch: 29, train loss: 1.6778, train acc: 0.29, test loss: 1.7699, test acc: 0.21, time: 5.48\n",
      "epoch: 30, train loss: 1.6530, train acc: 0.29, test loss: 1.7806, test acc: 0.23, time: 5.42\n",
      "epoch: 31, train loss: 1.6506, train acc: 0.30, test loss: 1.8133, test acc: 0.22, time: 5.46\n",
      "epoch: 32, train loss: 1.6473, train acc: 0.32, test loss: 1.7734, test acc: 0.22, time: 5.48\n",
      "epoch: 33, train loss: 1.6300, train acc: 0.33, test loss: 1.8058, test acc: 0.18, time: 5.41\n",
      "epoch: 34, train loss: 1.6414, train acc: 0.32, test loss: 1.7988, test acc: 0.21, time: 5.45\n",
      "epoch: 35, train loss: 1.6370, train acc: 0.33, test loss: 1.8015, test acc: 0.26, time: 5.50\n",
      "epoch: 36, train loss: 1.6246, train acc: 0.32, test loss: 1.8134, test acc: 0.21, time: 5.41\n",
      "epoch: 37, train loss: 1.6375, train acc: 0.34, test loss: 1.7836, test acc: 0.19, time: 5.41\n",
      "epoch: 38, train loss: 1.6404, train acc: 0.31, test loss: 1.7830, test acc: 0.21, time: 5.48\n",
      "epoch: 39, train loss: 1.6297, train acc: 0.34, test loss: 1.7229, test acc: 0.26, time: 5.47\n",
      "epoch: 40, train loss: 1.6478, train acc: 0.33, test loss: 1.7948, test acc: 0.21, time: 5.41\n",
      "epoch: 41, train loss: 1.6171, train acc: 0.35, test loss: 1.7579, test acc: 0.25, time: 5.47\n",
      "epoch: 42, train loss: 1.6178, train acc: 0.34, test loss: 1.7931, test acc: 0.16, time: 5.52\n",
      "epoch: 43, train loss: 1.6133, train acc: 0.34, test loss: 1.8136, test acc: 0.23, time: 5.45\n",
      "epoch: 44, train loss: 1.6084, train acc: 0.35, test loss: 1.8427, test acc: 0.18, time: 5.52\n",
      "epoch: 45, train loss: 1.6030, train acc: 0.35, test loss: 1.7475, test acc: 0.24, time: 5.63\n",
      "epoch: 46, train loss: 1.6126, train acc: 0.34, test loss: 1.7977, test acc: 0.26, time: 5.53\n",
      "epoch: 47, train loss: 1.5956, train acc: 0.33, test loss: 1.7658, test acc: 0.23, time: 5.40\n",
      "epoch: 48, train loss: 1.6110, train acc: 0.33, test loss: 1.7656, test acc: 0.23, time: 5.52\n",
      "epoch: 49, train loss: 1.5847, train acc: 0.36, test loss: 1.8041, test acc: 0.24, time: 5.42\n",
      "epoch: 50, train loss: 1.5996, train acc: 0.37, test loss: 1.8237, test acc: 0.20, time: 5.43\n",
      "epoch: 51, train loss: 1.5958, train acc: 0.36, test loss: 1.7851, test acc: 0.17, time: 5.42\n",
      "epoch: 52, train loss: 1.5877, train acc: 0.37, test loss: 1.7606, test acc: 0.20, time: 385.04\n",
      "epoch: 53, train loss: 1.5980, train acc: 0.34, test loss: 1.8315, test acc: 0.17, time: 6.60\n",
      "epoch: 54, train loss: 1.5818, train acc: 0.39, test loss: 1.8332, test acc: 0.21, time: 6.54\n",
      "epoch: 55, train loss: 1.5712, train acc: 0.37, test loss: 1.7674, test acc: 0.22, time: 7.44\n",
      "epoch: 56, train loss: 1.5655, train acc: 0.39, test loss: 1.8149, test acc: 0.24, time: 10.82\n",
      "epoch: 57, train loss: 1.5638, train acc: 0.38, test loss: 1.7718, test acc: 0.21, time: 10.08\n",
      "epoch: 58, train loss: 1.5733, train acc: 0.39, test loss: 1.8066, test acc: 0.23, time: 9.58\n",
      "epoch: 59, train loss: 1.5722, train acc: 0.38, test loss: 1.7886, test acc: 0.25, time: 9.69\n",
      "epoch: 60, train loss: 1.5720, train acc: 0.37, test loss: 1.7798, test acc: 0.24, time: 10.84\n",
      "epoch: 61, train loss: 1.5630, train acc: 0.40, test loss: 1.7998, test acc: 0.21, time: 9.61\n",
      "epoch: 62, train loss: 1.5447, train acc: 0.39, test loss: 1.8256, test acc: 0.18, time: 10.19\n",
      "epoch: 63, train loss: 1.5598, train acc: 0.37, test loss: 1.8283, test acc: 0.22, time: 10.16\n",
      "epoch: 64, train loss: 1.5387, train acc: 0.42, test loss: 1.8093, test acc: 0.23, time: 9.75\n",
      "epoch: 65, train loss: 1.5427, train acc: 0.39, test loss: 1.8014, test acc: 0.20, time: 10.15\n",
      "epoch: 66, train loss: 1.5440, train acc: 0.39, test loss: 1.7736, test acc: 0.23, time: 9.97\n",
      "epoch: 67, train loss: 1.5506, train acc: 0.39, test loss: 1.7723, test acc: 0.20, time: 10.08\n",
      "epoch: 68, train loss: 1.5306, train acc: 0.42, test loss: 1.7823, test acc: 0.20, time: 9.89\n",
      "epoch: 69, train loss: 1.5342, train acc: 0.42, test loss: 1.7941, test acc: 0.20, time: 10.16\n",
      "epoch: 70, train loss: 1.5171, train acc: 0.41, test loss: 1.7781, test acc: 0.27, time: 9.77\n",
      "epoch: 71, train loss: 1.5241, train acc: 0.42, test loss: 1.7828, test acc: 0.21, time: 10.01\n",
      "epoch: 72, train loss: 1.5227, train acc: 0.43, test loss: 1.7855, test acc: 0.19, time: 9.73\n",
      "epoch: 73, train loss: 1.5186, train acc: 0.43, test loss: 1.7703, test acc: 0.25, time: 10.08\n",
      "epoch: 74, train loss: 1.5256, train acc: 0.44, test loss: 1.7875, test acc: 0.20, time: 10.12\n",
      "epoch: 75, train loss: 1.5211, train acc: 0.42, test loss: 1.7629, test acc: 0.22, time: 9.81\n",
      "epoch: 76, train loss: 1.4987, train acc: 0.43, test loss: 1.7705, test acc: 0.21, time: 9.77\n",
      "epoch: 77, train loss: 1.5025, train acc: 0.44, test loss: 1.8374, test acc: 0.16, time: 10.42\n",
      "epoch: 78, train loss: 1.4978, train acc: 0.44, test loss: 1.7835, test acc: 0.20, time: 9.66\n",
      "epoch: 79, train loss: 1.4984, train acc: 0.43, test loss: 1.7832, test acc: 0.26, time: 9.51\n"
     ]
    }
   ],
   "source": [
    "result = []\n",
    "loss_all = []\n",
    "acc_all = []\n",
    "loss_test = []\n",
    "acc_test = []\n",
    "for epoch in range(num_epochs):\n",
    "    start = time.time()\n",
    "    train_loss, test_losses = 0, 0\n",
    "    train_acc, test_acc = 0, 0\n",
    "    \n",
    "    n, m = 0, 0\n",
    "    for feature, label in train_iter:\n",
    "        n += 1\n",
    "        net.zero_grad()\n",
    "        feature = Variable(feature)\n",
    "        label = Variable(label)\n",
    "        score = net(feature)\n",
    "        loss = loss_function(score, label)\n",
    "        #loss = nn.CrossEntropyLoss()\n",
    "        loss.backward()\n",
    "        optimizer.step()\n",
    "        train_acc += accuracy_score(torch.argmax(score.cpu().data,\n",
    "                                                 dim=1), label.cpu())\n",
    "        train_loss += loss.cpu().item()\n",
    "    with torch.no_grad():\n",
    "        for test_feature, test_label in test_iter:\n",
    "            m += 1\n",
    "            test_feature = test_feature\n",
    "            test_label = test_label\n",
    "            test_score = net(test_feature)\n",
    "            result.append(test_score)\n",
    "            test_loss = loss_function(test_score, test_label)\n",
    "            test_acc += accuracy_score(torch.argmax(test_score.cpu().data,\n",
    "                                                    dim=1), test_label.cpu())\n",
    "            test_losses += test_loss\n",
    "    end = time.time()\n",
    "    runtime = end - start\n",
    "    loss_all.append(train_loss / n)\n",
    "    acc_all.append(train_acc / n)\n",
    "    loss_test.append(test_losses.data / m)\n",
    "    acc_test.append(test_acc / m)\n",
    "    print('epoch: %d, train loss: %.4f, train acc: %.2f, test loss: %.4f, test acc: %.2f, time: %.2f' %\n",
    "          (epoch, train_loss / n, train_acc / n, test_losses.data / m, test_acc / m, runtime))\n",
    "\n"
   ]
  },
  {
   "cell_type": "code",
   "execution_count": 17,
   "metadata": {},
   "outputs": [
    {
     "data": {
      "image/png": "[encoded data removed]",
      "text/plain": [
       "<Figure size 400x400 with 1 Axes>"
      ]
     },
     "metadata": {
      "needs_background": "light"
     },
     "output_type": "display_data"
    },
    {
     "data": {
      "text/plain": [
       "<Figure size 432x288 with 0 Axes>"
      ]
     },
     "metadata": {},
     "output_type": "display_data"
    }
   ],
   "source": [
    "import matplotlib.pyplot as plt\n",
    "import numpy as np\n",
    "\n",
    "x =[i for i in range(80)]\n",
    "\n",
    "plt.figure(figsize=(5,5),dpi=80)\n",
    "\n",
    "plt.plot(x,loss_all,label=\"loss_train\",color=\"orange\")\n",
    "plt.plot(x,loss_test,label=\"loss_test\",color=\"blue\")\n",
    " \n",
    "#设置x轴刻度\n",
    "plt.xlabel('epoch') #X轴标签\n",
    "plt.ylabel(\"loss\") #Y轴标签\n",
    "# plt.yticks(range(0,9)\n",
    "plt.legend()\n",
    " \n",
    "#plt.legend(handles=[A,B],labels=[\"train\",\"test\"])\n",
    " \n",
    "plt.show()\n",
    "plt.savefig(\"textCNN_loss.png\", dpi=600)"
   ]
  },
  {
   "cell_type": "code",
   "execution_count": 20,
   "metadata": {},
   "outputs": [
    {
     "data": {
      "image/png": "[encoded data removed]",
      "text/plain": [
       "<Figure size 400x400 with 1 Axes>"
      ]
     },
     "metadata": {
      "needs_background": "light"
     },
     "output_type": "display_data"
    },
    {
     "data": {
      "text/plain": [
       "<Figure size 432x288 with 0 Axes>"
      ]
     },
     "metadata": {},
     "output_type": "display_data"
    }
   ],
   "source": [
    "import matplotlib.pyplot as plt\n",
    "import numpy as np\n",
    "\n",
    "x =[i for i in range(80)]\n",
    "\n",
    "plt.figure(figsize=(5,5),dpi=80)\n",
    "\n",
    "plt.plot(x,acc_all,label=\"acc_train\",color=\"orange\")\n",
    "plt.plot(x,acc_test,label=\"acc_test\",color=\"blue\")\n",
    " \n",
    "#设置x轴刻度\n",
    "plt.xlabel('epoch') #X轴标签\n",
    "plt.ylabel(\"acc\") #Y轴标签\n",
    "# plt.yticks(range(0,9)\n",
    "plt.legend()\n",
    " \n",
    "#plt.legend(handles=[A,B],labels=[\"train\",\"test\"])\n",
    " \n",
    "plt.show()\n",
    "plt.savefig(\"textCNN_acc.png\", dpi=600)"
   ]
  },
  {
   "cell_type": "code",
   "execution_count": 100,
   "metadata": {},
   "outputs": [
    {
     "name": "stdout",
     "output_type": "stream",
     "text": [
      "0.6382211538461539\n",
      "0.328125\n",
      "1.2431888121824999\n",
      "tensor(1.6737)\n"
     ]
    }
   ],
   "source": [
    "print(max(acc_all))\n",
    "print(max(acc_test))\n",
    "print(min(loss_all))\n",
    "print(min(loss_test))"
   ]
  },
  {
   "cell_type": "code",
   "execution_count": null,
   "metadata": {},
   "outputs": [],
   "source": []
  }
 ],
 "metadata": {
  "kernelspec": {
   "display_name": "Python 3",
   "language": "python",
   "name": "python3"
  },
  "language_info": {
   "codemirror_mode": {
    "name": "ipython",
    "version": 3
   },
   "file_extension": ".py",
   "mimetype": "text/x-python",
   "name": "python",
   "nbconvert_exporter": "python",
   "pygments_lexer": "ipython3",
   "version": "3.7.4"
  }
 },
 "nbformat": 4,
 "nbformat_minor": 2
}
