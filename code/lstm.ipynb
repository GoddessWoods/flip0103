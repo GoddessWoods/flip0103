{
 "cells": [
  {
   "cell_type": "code",
   "execution_count": 1,
   "metadata": {},
   "outputs": [],
   "source": [
    "import collections\n",
    "import os\n",
    "import random\n",
    "import tarfile\n",
    "import torch\n",
    "from torch import nn\n",
    "import torchtext.vocab as Vocab\n",
    "import torch.utils.data as Data\n",
    "import csv\n",
    "import sys\n",
    "import math\n",
    "import time\n",
    "import json\n",
    "import zipfile\n",
    "from tqdm import tqdm\n",
    "from PIL import Image\n",
    "from collections import namedtuple\n",
    "from IPython import display\n",
    "from matplotlib import pyplot as plt\n",
    "import torch.nn.functional as F\n",
    "import torchvision\n",
    "import torchvision.transforms as transforms\n",
    "import torchtext\n",
    "import numpy as np\n",
    "from itertools import chain\n",
    "import torch.optim as optim\n",
    "from torch.autograd import Variable\n",
    "import torch\n",
    "import torch.nn as nn\n",
    "import torch.nn.functional as F\n",
    "import torch.utils.data.dataloader as dataloader\n",
    "import torch.optim as optim\n",
    "import torch.autograd as autograd\n",
    "import torchtext.vocab as torchvocab\n",
    "from torch.autograd import Variable\n",
    "import tqdm\n",
    "import os\n",
    "import time\n",
    "import re\n",
    "import pandas as pd\n",
    "import string\n",
    "import gensim\n",
    "import time\n",
    "import random\n",
    "import snowballstemmer\n",
    "import collections\n",
    "from collections import Counter\n",
    "from nltk.corpus import stopwords\n",
    "from itertools import chain\n",
    "from sklearn.metrics import accuracy_score\n",
    "\n",
    "\n",
    "\n",
    "sys.path.append(\"..\") \n",
    "\n",
    "os.environ[\"CUDA_VISIBLE_DEVICES\"] = \"0\"\n",
    "device = torch.device('cuda' if torch.cuda.is_available() else 'cpu')\n",
    "\n",
    "DATA_ROOT = \"/Users/shuxialin/Documents/project/code\""
   ]
  },
  {
   "cell_type": "code",
   "execution_count": 2,
   "metadata": {},
   "outputs": [],
   "source": [
    "fname = os.path.join(DATA_ROOT, \"aclImdb_v1.tar.gz\")\n",
    "if not os.path.exists(os.path.join(DATA_ROOT, \"aclImdb\")):\n",
    "    print(\"从压缩包解压...\")\n",
    "    with tarfile.open(fname, 'r') as f:\n",
    "        f.extractall(DATA_ROOT)"
   ]
  },
  {
   "cell_type": "code",
   "execution_count": 3,
   "metadata": {},
   "outputs": [],
   "source": [
    "sentences = []\n",
    "lines = []\n",
    "with open(\"/Users/shuxialin/Documents/flip/01and03/data/se07_test.xml\", 'r') as fileobj :\n",
    "    for line in fileobj :\n",
    "        lines.append(line)\n",
    "        \n",
    "lines = lines[1:]\n",
    "\n",
    "for line in lines :\n",
    "    tokens = (line.split('<')[1]).split('>')\n",
    "    sentences.append(tokens[-1])\n",
    "\n",
    "sen_se07 = sentences[:1000]\n",
    "\n",
    "se07_classes = []\n",
    "\n",
    "with open('/Users/shuxialin/Documents/flip/01and03/data/se07_test.emotions.gold', 'r') as flie :\n",
    "    for line in flie:\n",
    "        token = (line.split())[1:]\n",
    "        a = token.index(max(token))\n",
    "        se07_classes.append(a)\n",
    "        \n",
    "train_data = []\n",
    "test_data = [] \n",
    "\n",
    "for i in range(800):\n",
    "    train_data.append([sen_se07[i],se07_classes[i]])\n",
    "for i in range(200):\n",
    "    test_data.append([sen_se07[i+800],se07_classes[i+800]])"
   ]
  },
  {
   "cell_type": "code",
   "execution_count": 4,
   "metadata": {},
   "outputs": [],
   "source": [
    "def get_tokenized_imdb(data):\n",
    "    \"\"\"\n",
    "    data: list of [string, label]\n",
    "    \"\"\"\n",
    "    def tokenizer(text):\n",
    "        return [tok.lower() for tok in text.split(' ')]\n",
    "    return [tokenizer(review) for review, _   in data]"
   ]
  },
  {
   "cell_type": "code",
   "execution_count": 5,
   "metadata": {},
   "outputs": [
    {
     "data": {
      "text/plain": [
       "('# words in vocab:', 812)"
      ]
     },
     "execution_count": 5,
     "metadata": {},
     "output_type": "execute_result"
    }
   ],
   "source": [
    "def get_vocab_imdb(data):\n",
    "    tokenized_data = get_tokenized_imdb(data)\n",
    "    counter = collections.Counter([tk for st in tokenized_data for tk in st])\n",
    "    return Vocab.Vocab(counter, min_freq=2)\n",
    "\n",
    "vocab = get_vocab_imdb(train_data)\n",
    "'# words in vocab:', len(vocab)"
   ]
  },
  {
   "cell_type": "code",
   "execution_count": 6,
   "metadata": {},
   "outputs": [],
   "source": [
    "def preprocess_imdb(data, vocab):\n",
    "    max_l = 100  # 将每条评论通过截断或者补0，使得长度变成500\n",
    "\n",
    "    def pad(x):\n",
    "        return x[:max_l] if len(x) > max_l else x + [0] * (max_l - len(x))\n",
    "\n",
    "    tokenized_data = get_tokenized_imdb(data)\n",
    "    features = torch.tensor([pad([vocab.stoi[word] for word in words]) for words in tokenized_data])\n",
    "    labels = torch.tensor([score for _, score in data])\n",
    "    return features, labels"
   ]
  },
  {
   "cell_type": "code",
   "execution_count": 7,
   "metadata": {},
   "outputs": [],
   "source": [
    "batch_size = 64\n",
    "preprocess_imdb(train_data, vocab)\n",
    "train_set = Data.TensorDataset(*preprocess_imdb(train_data, vocab))\n",
    "test_set = Data.TensorDataset(*preprocess_imdb(test_data, vocab))\n",
    "train_iter = Data.DataLoader(train_set, batch_size, shuffle=True)\n",
    "test_iter = Data.DataLoader(test_set, batch_size)"
   ]
  },
  {
   "cell_type": "code",
   "execution_count": 8,
   "metadata": {},
   "outputs": [],
   "source": [
    "class SentimentNet(nn.Module):\n",
    "    def __init__(self, vocab_size, embed_size, num_hiddens, num_layers,\n",
    "                 bidirectional, labels, use_gpu, **kwargs):\n",
    "        super(SentimentNet, self).__init__(**kwargs)\n",
    "        self.num_hiddens = num_hiddens\n",
    "        self.num_layers = num_layers\n",
    "        self.use_gpu = use_gpu\n",
    "        self.bidirectional = bidirectional\n",
    "        self.embedding = nn.Embedding(len(vocab), embed_size)\n",
    "        self.embedding.weight.requires_grad = False\n",
    "        self.encoder = nn.LSTM(input_size=embed_size, hidden_size=self.num_hiddens,\n",
    "                               num_layers=num_layers, bidirectional=self.bidirectional,\n",
    "                               dropout=0)\n",
    "        if self.bidirectional:\n",
    "            self.decoder = nn.Linear(num_hiddens * 4, labels)\n",
    "        else:\n",
    "            self.decoder = nn.Linear(num_hiddens * 2, labels)\n",
    "\n",
    "    def forward(self, inputs):\n",
    "        embeddings = self.embedding(inputs)\n",
    "        states, hidden = self.encoder(embeddings.permute([1, 0, 2]))\n",
    "        encoding = torch.cat([states[0], states[-1]], dim=1)\n",
    "        outputs = self.decoder(encoding)\n",
    "        return outputs"
   ]
  },
  {
   "cell_type": "code",
   "execution_count": 9,
   "metadata": {},
   "outputs": [],
   "source": [
    "num_epochs = 80\n",
    "embed_size = 300\n",
    "num_hiddens = 100\n",
    "num_layers = 2\n",
    "bidirectional = True\n",
    "batch_size = 64\n",
    "labels = 6\n",
    "lr = 0.001\n",
    "#device = torch.device('cuda:0')\n",
    "device = torch.device('cuda' if torch.cuda.is_available() else 'cpu')\n",
    "use_gpu = True\n",
    "\n",
    "net = SentimentNet(vocab_size=(len(vocab)+1), embed_size=embed_size,\n",
    "                   num_hiddens=num_hiddens, num_layers=num_layers,\n",
    "                   bidirectional=bidirectional,\n",
    "                   labels=labels, use_gpu=use_gpu)\n",
    "net.to(device)\n",
    "loss_function = nn.CrossEntropyLoss()\n",
    "optimizer = optim.SGD(net.parameters(), lr=lr)"
   ]
  },
  {
   "cell_type": "code",
   "execution_count": 11,
   "metadata": {},
   "outputs": [],
   "source": [
    "glove_vocab = Vocab.GloVe(name='6B', dim=300, cache=os.path.join(DATA_ROOT, \"glove\"))\n",
    "\n",
    "def load_pretrained_embedding(words, pretrained_vocab):\n",
    "    \"\"\"从预训练好的vocab中提取出words对应的词向量\"\"\"\n",
    "    embed = torch.zeros(len(words), pretrained_vocab.vectors[0].shape[0]) # 初始化为0\n",
    "    oov_count = 0 # out of vocabulary\n",
    "    for i, word in enumerate(words):\n",
    "        try:\n",
    "            idx = pretrained_vocab.stoi[word]\n",
    "            embed[i, :] = pretrained_vocab.vectors[idx]\n",
    "        except KeyError:\n",
    "            oov_count += 0\n",
    "    if oov_count > 0:\n",
    "        print(\"There are %d oov words.\")\n",
    "    return embed\n",
    "\n",
    "net.embedding.weight.data.copy_(\n",
    "    load_pretrained_embedding(vocab.itos, glove_vocab))\n",
    "net.embedding.weight.requires_grad = False # 直接加载预训练好的, 所以不需要更新它\n"
   ]
  },
  {
   "cell_type": "code",
   "execution_count": 12,
   "metadata": {},
   "outputs": [
    {
     "name": "stdout",
     "output_type": "stream",
     "text": [
      "epoch: 0, train loss: 1.7897, train acc: 0.19, test loss: 1.7952, test acc: 0.12, time: 8.84\n",
      "epoch: 1, train loss: 1.7894, train acc: 0.18, test loss: 1.7948, test acc: 0.12, time: 8.56\n",
      "epoch: 2, train loss: 1.7893, train acc: 0.18, test loss: 1.7945, test acc: 0.12, time: 8.44\n",
      "epoch: 3, train loss: 1.7882, train acc: 0.18, test loss: 1.7941, test acc: 0.12, time: 8.56\n",
      "epoch: 4, train loss: 1.7881, train acc: 0.18, test loss: 1.7938, test acc: 0.12, time: 8.56\n",
      "epoch: 5, train loss: 1.7873, train acc: 0.18, test loss: 1.7934, test acc: 0.12, time: 9.15\n",
      "epoch: 6, train loss: 1.7872, train acc: 0.18, test loss: 1.7931, test acc: 0.12, time: 8.74\n",
      "epoch: 7, train loss: 1.7864, train acc: 0.19, test loss: 1.7927, test acc: 0.12, time: 8.61\n",
      "epoch: 8, train loss: 1.7871, train acc: 0.18, test loss: 1.7924, test acc: 0.12, time: 8.40\n",
      "epoch: 9, train loss: 1.7855, train acc: 0.18, test loss: 1.7920, test acc: 0.12, time: 8.52\n",
      "epoch: 10, train loss: 1.7852, train acc: 0.18, test loss: 1.7917, test acc: 0.12, time: 8.57\n",
      "epoch: 11, train loss: 1.7850, train acc: 0.18, test loss: 1.7914, test acc: 0.12, time: 9.15\n",
      "epoch: 12, train loss: 1.7839, train acc: 0.18, test loss: 1.7910, test acc: 0.12, time: 8.93\n",
      "epoch: 13, train loss: 1.7836, train acc: 0.18, test loss: 1.7907, test acc: 0.12, time: 8.30\n",
      "epoch: 14, train loss: 1.7841, train acc: 0.18, test loss: 1.7903, test acc: 0.12, time: 8.63\n",
      "epoch: 15, train loss: 1.7825, train acc: 0.19, test loss: 1.7900, test acc: 0.12, time: 8.71\n",
      "epoch: 16, train loss: 1.7834, train acc: 0.18, test loss: 1.7897, test acc: 0.12, time: 8.61\n",
      "epoch: 17, train loss: 1.7831, train acc: 0.18, test loss: 1.7894, test acc: 0.12, time: 9.03\n",
      "epoch: 18, train loss: 1.7825, train acc: 0.19, test loss: 1.7891, test acc: 0.12, time: 8.99\n",
      "epoch: 19, train loss: 1.7819, train acc: 0.19, test loss: 1.7888, test acc: 0.12, time: 8.89\n",
      "epoch: 20, train loss: 1.7810, train acc: 0.18, test loss: 1.7884, test acc: 0.12, time: 8.53\n",
      "epoch: 21, train loss: 1.7804, train acc: 0.19, test loss: 1.7881, test acc: 0.12, time: 8.35\n",
      "epoch: 22, train loss: 1.7798, train acc: 0.19, test loss: 1.7878, test acc: 0.13, time: 8.26\n",
      "epoch: 23, train loss: 1.7797, train acc: 0.19, test loss: 1.7875, test acc: 0.13, time: 8.45\n",
      "epoch: 24, train loss: 1.7795, train acc: 0.19, test loss: 1.7872, test acc: 0.14, time: 9.51\n",
      "epoch: 25, train loss: 1.7795, train acc: 0.19, test loss: 1.7869, test acc: 0.13, time: 9.27\n",
      "epoch: 26, train loss: 1.7783, train acc: 0.20, test loss: 1.7866, test acc: 0.13, time: 8.46\n",
      "epoch: 27, train loss: 1.7786, train acc: 0.20, test loss: 1.7863, test acc: 0.12, time: 8.90\n",
      "epoch: 28, train loss: 1.7781, train acc: 0.22, test loss: 1.7860, test acc: 0.13, time: 8.43\n",
      "epoch: 29, train loss: 1.7770, train acc: 0.22, test loss: 1.7857, test acc: 0.15, time: 8.76\n",
      "epoch: 30, train loss: 1.7770, train acc: 0.23, test loss: 1.7854, test acc: 0.19, time: 9.26\n",
      "epoch: 31, train loss: 1.7768, train acc: 0.23, test loss: 1.7851, test acc: 0.18, time: 9.73\n",
      "epoch: 32, train loss: 1.7757, train acc: 0.24, test loss: 1.7848, test acc: 0.19, time: 8.50\n",
      "epoch: 33, train loss: 1.7755, train acc: 0.24, test loss: 1.7845, test acc: 0.18, time: 8.55\n",
      "epoch: 34, train loss: 1.7750, train acc: 0.24, test loss: 1.7842, test acc: 0.18, time: 8.37\n",
      "epoch: 35, train loss: 1.7750, train acc: 0.25, test loss: 1.7839, test acc: 0.19, time: 8.37\n",
      "epoch: 36, train loss: 1.7749, train acc: 0.25, test loss: 1.7837, test acc: 0.20, time: 8.20\n",
      "epoch: 37, train loss: 1.7746, train acc: 0.25, test loss: 1.7834, test acc: 0.20, time: 8.46\n",
      "epoch: 38, train loss: 1.7744, train acc: 0.26, test loss: 1.7831, test acc: 0.20, time: 8.35\n",
      "epoch: 39, train loss: 1.7739, train acc: 0.26, test loss: 1.7829, test acc: 0.20, time: 8.36\n",
      "epoch: 40, train loss: 1.7736, train acc: 0.27, test loss: 1.7826, test acc: 0.20, time: 8.39\n",
      "epoch: 41, train loss: 1.7718, train acc: 0.28, test loss: 1.7823, test acc: 0.21, time: 8.38\n",
      "epoch: 42, train loss: 1.7726, train acc: 0.28, test loss: 1.7820, test acc: 0.21, time: 8.55\n",
      "epoch: 43, train loss: 1.7719, train acc: 0.28, test loss: 1.7818, test acc: 0.21, time: 8.27\n",
      "epoch: 44, train loss: 1.7724, train acc: 0.27, test loss: 1.7815, test acc: 0.21, time: 8.39\n",
      "epoch: 45, train loss: 1.7722, train acc: 0.27, test loss: 1.7813, test acc: 0.21, time: 8.24\n",
      "epoch: 46, train loss: 1.7707, train acc: 0.27, test loss: 1.7810, test acc: 0.21, time: 8.51\n",
      "epoch: 47, train loss: 1.7707, train acc: 0.27, test loss: 1.7807, test acc: 0.21, time: 8.37\n",
      "epoch: 48, train loss: 1.7705, train acc: 0.27, test loss: 1.7805, test acc: 0.21, time: 8.23\n",
      "epoch: 49, train loss: 1.7704, train acc: 0.27, test loss: 1.7802, test acc: 0.21, time: 8.43\n",
      "epoch: 50, train loss: 1.7696, train acc: 0.27, test loss: 1.7800, test acc: 0.21, time: 8.37\n",
      "epoch: 51, train loss: 1.7695, train acc: 0.27, test loss: 1.7797, test acc: 0.22, time: 8.27\n",
      "epoch: 52, train loss: 1.7689, train acc: 0.28, test loss: 1.7795, test acc: 0.22, time: 8.40\n",
      "epoch: 53, train loss: 1.7694, train acc: 0.27, test loss: 1.7792, test acc: 0.22, time: 8.46\n",
      "epoch: 54, train loss: 1.7695, train acc: 0.27, test loss: 1.7790, test acc: 0.22, time: 8.42\n",
      "epoch: 55, train loss: 1.7677, train acc: 0.28, test loss: 1.7788, test acc: 0.22, time: 8.40\n",
      "epoch: 56, train loss: 1.7667, train acc: 0.28, test loss: 1.7785, test acc: 0.22, time: 8.27\n",
      "epoch: 57, train loss: 1.7667, train acc: 0.28, test loss: 1.7783, test acc: 0.22, time: 8.23\n",
      "epoch: 58, train loss: 1.7680, train acc: 0.27, test loss: 1.7781, test acc: 0.22, time: 8.31\n",
      "epoch: 59, train loss: 1.7671, train acc: 0.27, test loss: 1.7778, test acc: 0.22, time: 8.33\n",
      "epoch: 60, train loss: 1.7665, train acc: 0.27, test loss: 1.7776, test acc: 0.22, time: 8.32\n",
      "epoch: 61, train loss: 1.7660, train acc: 0.28, test loss: 1.7774, test acc: 0.22, time: 8.33\n",
      "epoch: 62, train loss: 1.7654, train acc: 0.27, test loss: 1.7771, test acc: 0.22, time: 8.34\n",
      "epoch: 63, train loss: 1.7646, train acc: 0.28, test loss: 1.7769, test acc: 0.22, time: 8.34\n",
      "epoch: 64, train loss: 1.7667, train acc: 0.26, test loss: 1.7767, test acc: 0.22, time: 9.11\n",
      "epoch: 65, train loss: 1.7646, train acc: 0.27, test loss: 1.7765, test acc: 0.22, time: 9.13\n",
      "epoch: 66, train loss: 1.7638, train acc: 0.27, test loss: 1.7762, test acc: 0.22, time: 277.42\n",
      "epoch: 67, train loss: 1.7651, train acc: 0.26, test loss: 1.7760, test acc: 0.22, time: 9.96\n",
      "epoch: 68, train loss: 1.7649, train acc: 0.26, test loss: 1.7758, test acc: 0.22, time: 9.72\n",
      "epoch: 69, train loss: 1.7641, train acc: 0.26, test loss: 1.7756, test acc: 0.22, time: 9.99\n",
      "epoch: 70, train loss: 1.7621, train acc: 0.27, test loss: 1.7754, test acc: 0.22, time: 10.15\n",
      "epoch: 71, train loss: 1.7632, train acc: 0.27, test loss: 1.7752, test acc: 0.22, time: 9.69\n",
      "epoch: 72, train loss: 1.7627, train acc: 0.27, test loss: 1.7750, test acc: 0.22, time: 9.89\n",
      "epoch: 73, train loss: 1.7625, train acc: 0.26, test loss: 1.7748, test acc: 0.22, time: 9.41\n",
      "epoch: 74, train loss: 1.7624, train acc: 0.26, test loss: 1.7745, test acc: 0.22, time: 9.32\n",
      "epoch: 75, train loss: 1.7623, train acc: 0.26, test loss: 1.7743, test acc: 0.22, time: 9.29\n",
      "epoch: 76, train loss: 1.7621, train acc: 0.26, test loss: 1.7741, test acc: 0.22, time: 9.45\n",
      "epoch: 77, train loss: 1.7610, train acc: 0.26, test loss: 1.7739, test acc: 0.22, time: 9.46\n",
      "epoch: 78, train loss: 1.7611, train acc: 0.27, test loss: 1.7737, test acc: 0.22, time: 9.21\n",
      "epoch: 79, train loss: 1.7608, train acc: 0.27, test loss: 1.7735, test acc: 0.22, time: 9.19\n"
     ]
    }
   ],
   "source": [
    "result = []\n",
    "loss_all = []\n",
    "acc_all = []\n",
    "loss_test = []\n",
    "acc_test = []\n",
    "for epoch in range(num_epochs):\n",
    "    start = time.time()\n",
    "    train_loss, test_losses = 0, 0\n",
    "    train_acc, test_acc = 0, 0\n",
    "    \n",
    "    n, m = 0, 0\n",
    "    for feature, label in train_iter:\n",
    "        n += 1\n",
    "        net.zero_grad()\n",
    "        feature = Variable(feature)\n",
    "        label = Variable(label)\n",
    "        score = net(feature)\n",
    "        loss = loss_function(score, label)\n",
    "        #loss = nn.CrossEntropyLoss()\n",
    "        loss.backward()\n",
    "        optimizer.step()\n",
    "        train_acc += accuracy_score(torch.argmax(score.cpu().data,\n",
    "                                                 dim=1), label.cpu())\n",
    "        train_loss += loss.cpu().item()\n",
    "    with torch.no_grad():\n",
    "        for test_feature, test_label in test_iter:\n",
    "            m += 1\n",
    "            test_feature = test_feature\n",
    "            test_label = test_label\n",
    "            test_score = net(test_feature)\n",
    "            result.append(test_score)\n",
    "            test_loss = loss_function(test_score, test_label)\n",
    "            test_acc += accuracy_score(torch.argmax(test_score.cpu().data,\n",
    "                                                    dim=1), test_label.cpu())\n",
    "            test_losses += test_loss\n",
    "    end = time.time()\n",
    "    runtime = end - start\n",
    "    loss_all.append(train_loss / n)\n",
    "    acc_all.append(train_acc / n)\n",
    "    loss_test.append(test_losses.data / m)\n",
    "    acc_test.append(test_acc / m)\n",
    "    print('epoch: %d, train loss: %.4f, train acc: %.2f, test loss: %.4f, test acc: %.2f, time: %.2f' %\n",
    "          (epoch, train_loss / n, train_acc / n, test_losses.data / m, test_acc / m, runtime))\n",
    "\n"
   ]
  },
  {
   "cell_type": "code",
   "execution_count": 13,
   "metadata": {},
   "outputs": [
    {
     "data": {
      "image/png": "[encoded data removed]",
      "text/plain": [
       "<Figure size 400x400 with 1 Axes>"
      ]
     },
     "metadata": {
      "needs_background": "light"
     },
     "output_type": "display_data"
    },
    {
     "data": {
      "text/plain": [
       "<Figure size 432x288 with 0 Axes>"
      ]
     },
     "metadata": {},
     "output_type": "display_data"
    }
   ],
   "source": [
    "import matplotlib.pyplot as plt\n",
    "import numpy as np\n",
    "\n",
    "x =[i for i in range(80)]\n",
    "\n",
    "plt.figure(figsize=(5,5),dpi=80)\n",
    "\n",
    "plt.plot(x,loss_all,label=\"loss_train\",color=\"orange\")\n",
    "plt.plot(x,loss_test,label=\"loss_test\",color=\"blue\")\n",
    " \n",
    "#设置x轴刻度\n",
    "plt.xlabel('epoch') #X轴标签\n",
    "plt.ylabel(\"loss\") #Y轴标签\n",
    "# plt.yticks(range(0,9)\n",
    "plt.legend()\n",
    " \n",
    "#plt.legend(handles=[A,B],labels=[\"train\",\"test\"])\n",
    " \n",
    "plt.show()\n",
    "plt.savefig(\"LSTM_loss.png\", dpi=600)"
   ]
  },
  {
   "cell_type": "code",
   "execution_count": 14,
   "metadata": {},
   "outputs": [
    {
     "data": {
      "image/png": "[encoded data removed]",
      "text/plain": [
       "<Figure size 400x400 with 1 Axes>"
      ]
     },
     "metadata": {
      "needs_background": "light"
     },
     "output_type": "display_data"
    },
    {
     "data": {
      "text/plain": [
       "<Figure size 432x288 with 0 Axes>"
      ]
     },
     "metadata": {},
     "output_type": "display_data"
    }
   ],
   "source": [
    "import matplotlib.pyplot as plt\n",
    "import numpy as np\n",
    "\n",
    "x =[i for i in range(80)]\n",
    "\n",
    "plt.figure(figsize=(5,5),dpi=80)\n",
    "\n",
    "plt.plot(x,acc_all,label=\"acc_train\",color=\"orange\")\n",
    "plt.plot(x,acc_test,label=\"acc_test\",color=\"blue\")\n",
    " \n",
    "#设置x轴刻度\n",
    "plt.xlabel('epoch') #X轴标签\n",
    "plt.ylabel(\"acc\") #Y轴标签\n",
    "# plt.yticks(range(0,9)\n",
    "plt.legend()\n",
    " \n",
    "#plt.legend(handles=[A,B],labels=[\"train\",\"test\"])\n",
    " \n",
    "plt.show()\n",
    "plt.savefig(\"LSTM_acc.png\", dpi=600)"
   ]
  },
  {
   "cell_type": "code",
   "execution_count": 15,
   "metadata": {},
   "outputs": [
    {
     "name": "stdout",
     "output_type": "stream",
     "text": [
      "0.2824519230769231\n",
      "0.22265625\n",
      "1.7608467157070453\n",
      "tensor(1.7735)\n"
     ]
    }
   ],
   "source": [
    "print(max(acc_all))\n",
    "print(max(acc_test))\n",
    "print(min(loss_all))\n",
    "print(min(loss_test))"
   ]
  },
  {
   "cell_type": "code",
   "execution_count": null,
   "metadata": {},
   "outputs": [],
   "source": []
  }
 ],
 "metadata": {
  "kernelspec": {
   "display_name": "Python 3",
   "language": "python",
   "name": "python3"
  },
  "language_info": {
   "codemirror_mode": {
    "name": "ipython",
    "version": 3
   },
   "file_extension": ".py",
   "mimetype": "text/x-python",
   "name": "python",
   "nbconvert_exporter": "python",
   "pygments_lexer": "ipython3",
   "version": "3.7.4"
  }
 },
 "nbformat": 4,
 "nbformat_minor": 2
}
